{
 "cells": [
  {
   "cell_type": "code",
   "execution_count": 1,
   "metadata": {},
   "outputs": [],
   "source": [
    "import numpy as np\n",
    "import math as mt\n",
    "import pandas as pd\n",
    "import matplotlib.pyplot as plt\n",
    "from __future__ import print_function,division"
   ]
  },
  {
   "cell_type": "code",
   "execution_count": 2,
   "metadata": {},
   "outputs": [],
   "source": [
    "def horner(coeffs,x):\n",
    "    acc=0\n",
    "    for c in reversed(coeffs):\n",
    "        acc = acc*x + c\n",
    "    return acc "
   ]
  },
  {
   "cell_type": "code",
   "execution_count": 3,
   "metadata": {},
   "outputs": [
    {
     "data": {
      "text/plain": [
       "1"
      ]
     },
     "execution_count": 3,
     "metadata": {},
     "output_type": "execute_result"
    }
   ],
   "source": [
    "mt.factorial(0)"
   ]
  },
  {
   "cell_type": "markdown",
   "metadata": {},
   "source": [
    "# Codigo mas Ineficiente \n"
   ]
  },
  {
   "cell_type": "code",
   "execution_count": 4,
   "metadata": {},
   "outputs": [],
   "source": [
    "def evalupoly(coeff,x):\n",
    "    acc = 0 \n",
    "    for i,a in enumerate(coeff): #Esta funcion da el indice y el numero de ese indice \n",
    "        acc += (x**i)*a #i = 0,1,2... y a es igual los valores \n",
    "    return acc"
   ]
  },
  {
   "cell_type": "code",
   "execution_count": 5,
   "metadata": {},
   "outputs": [
    {
     "data": {
      "text/plain": [
       "51"
      ]
     },
     "execution_count": 5,
     "metadata": {},
     "output_type": "execute_result"
    }
   ],
   "source": [
    "evalupoly((-1,2,2,3,1),2)"
   ]
  },
  {
   "cell_type": "markdown",
   "metadata": {},
   "source": [
    "# Metodo Iterativo "
   ]
  },
  {
   "cell_type": "code",
   "execution_count": 6,
   "metadata": {},
   "outputs": [],
   "source": [
    "def poly_iter(A, x):\n",
    "    p = 0 #Inializa las variables \n",
    "    xn = 1\n",
    "    for a in A: #A son los coeficientes \n",
    "        p += xn * a # el primer coeficiente, y de ahi los demas \n",
    "        xn *= x #esto hara que tengamos los exponentes \n",
    "    return p"
   ]
  },
  {
   "cell_type": "code",
   "execution_count": 7,
   "metadata": {},
   "outputs": [
    {
     "data": {
      "text/plain": [
       "51"
      ]
     },
     "execution_count": 7,
     "metadata": {},
     "output_type": "execute_result"
    }
   ],
   "source": [
    "poly_iter((-1,2,2,3,1),2)"
   ]
  },
  {
   "cell_type": "markdown",
   "metadata": {},
   "source": [
    "# La regla de Horner"
   ]
  },
  {
   "cell_type": "code",
   "execution_count": 8,
   "metadata": {},
   "outputs": [],
   "source": [
    "def poly_horner(A, x): # A coeficiente en forma de lista []\n",
    "    p = A[-1] #A[-1] es para que vaya del ultimo al primero \n",
    "    i = len(A) - 2 #len es para dar el tamaño de A \n",
    "    while i >= 0:\n",
    "        p = p * x + A[i]\n",
    "        i -= 1\n",
    "    return p"
   ]
  },
  {
   "cell_type": "code",
   "execution_count": 9,
   "metadata": {},
   "outputs": [
    {
     "data": {
      "text/plain": [
       "51"
      ]
     },
     "execution_count": 9,
     "metadata": {},
     "output_type": "execute_result"
    }
   ],
   "source": [
    "poly_horner((-1,2,2,3,1),2)"
   ]
  },
  {
   "cell_type": "markdown",
   "metadata": {},
   "source": [
    "# Funcion conseno en serie de potencias "
   ]
  },
  {
   "cell_type": "code",
   "execution_count": 10,
   "metadata": {},
   "outputs": [],
   "source": [
    "def cos(x,k):\n",
    "    valor = 0\n",
    "    A = []\n",
    "    for i in range(k+1):\n",
    "      p = (((-1)**i) * x**(2*i))/(mt.factorial(2*i))\n",
    "      valor = valor + p \n",
    "    return (valor)"
   ]
  },
  {
   "cell_type": "code",
   "execution_count": 11,
   "metadata": {},
   "outputs": [
    {
     "data": {
      "text/plain": [
       "0.7539022543432953"
      ]
     },
     "execution_count": 11,
     "metadata": {},
     "output_type": "execute_result"
    }
   ],
   "source": [
    "cos(7,1700)"
   ]
  },
  {
   "cell_type": "code",
   "execution_count": 12,
   "metadata": {},
   "outputs": [],
   "source": [
    "iteraciones = [10,20,50,100,1000]\n",
    "valores_x = [0,5,8,16,32,60,80,100]"
   ]
  },
  {
   "cell_type": "code",
   "execution_count": 13,
   "metadata": {},
   "outputs": [],
   "source": [
    "def tabla(a,b):\n",
    "   val_x = [] \n",
    "   itera = []\n",
    "   val_cos = []\n",
    "   error_re = []\n",
    "   cos_v = []\n",
    "   for i in (a):\n",
    "    for j in (b):\n",
    "        val_x.append(i)\n",
    "        itera.append(j)\n",
    "        val_cos.append(cos(i,j))\n",
    "        error_re.append((cos(i,j) - mt.cos(i))/mt.cos(i))\n",
    "        cos_v.append(mt.cos(i))\n",
    "        tabla = np.column_stack((val_x, itera,val_cos,cos_v,error_re))\n",
    "        tabla_res = pd.DataFrame(tabla,columns=['X','Iteraiones','Suma',\"cos\",'Error'])\n",
    "    \n",
    "   \n",
    "   \n",
    "   return tabla_res\n"
   ]
  },
  {
   "cell_type": "code",
   "execution_count": 14,
   "metadata": {},
   "outputs": [
    {
     "data": {
      "text/html": [
       "<div>\n",
       "<style scoped>\n",
       "    .dataframe tbody tr th:only-of-type {\n",
       "        vertical-align: middle;\n",
       "    }\n",
       "\n",
       "    .dataframe tbody tr th {\n",
       "        vertical-align: top;\n",
       "    }\n",
       "\n",
       "    .dataframe thead th {\n",
       "        text-align: right;\n",
       "    }\n",
       "</style>\n",
       "<table border=\"1\" class=\"dataframe\">\n",
       "  <thead>\n",
       "    <tr style=\"text-align: right;\">\n",
       "      <th></th>\n",
       "      <th>X</th>\n",
       "      <th>Iteraiones</th>\n",
       "      <th>Suma</th>\n",
       "      <th>cos</th>\n",
       "      <th>Error</th>\n",
       "    </tr>\n",
       "  </thead>\n",
       "  <tbody>\n",
       "    <tr>\n",
       "      <th>0</th>\n",
       "      <td>0.0</td>\n",
       "      <td>10.0</td>\n",
       "      <td>1.000000e+00</td>\n",
       "      <td>1.000000</td>\n",
       "      <td>0.000000e+00</td>\n",
       "    </tr>\n",
       "    <tr>\n",
       "      <th>1</th>\n",
       "      <td>0.0</td>\n",
       "      <td>20.0</td>\n",
       "      <td>1.000000e+00</td>\n",
       "      <td>1.000000</td>\n",
       "      <td>0.000000e+00</td>\n",
       "    </tr>\n",
       "    <tr>\n",
       "      <th>2</th>\n",
       "      <td>0.0</td>\n",
       "      <td>50.0</td>\n",
       "      <td>1.000000e+00</td>\n",
       "      <td>1.000000</td>\n",
       "      <td>0.000000e+00</td>\n",
       "    </tr>\n",
       "    <tr>\n",
       "      <th>3</th>\n",
       "      <td>0.0</td>\n",
       "      <td>100.0</td>\n",
       "      <td>1.000000e+00</td>\n",
       "      <td>1.000000</td>\n",
       "      <td>0.000000e+00</td>\n",
       "    </tr>\n",
       "    <tr>\n",
       "      <th>4</th>\n",
       "      <td>0.0</td>\n",
       "      <td>1000.0</td>\n",
       "      <td>1.000000e+00</td>\n",
       "      <td>1.000000</td>\n",
       "      <td>0.000000e+00</td>\n",
       "    </tr>\n",
       "    <tr>\n",
       "      <th>5</th>\n",
       "      <td>5.0</td>\n",
       "      <td>10.0</td>\n",
       "      <td>2.836642e-01</td>\n",
       "      <td>0.283662</td>\n",
       "      <td>7.151709e-06</td>\n",
       "    </tr>\n",
       "    <tr>\n",
       "      <th>6</th>\n",
       "      <td>5.0</td>\n",
       "      <td>20.0</td>\n",
       "      <td>2.836622e-01</td>\n",
       "      <td>0.283662</td>\n",
       "      <td>1.761251e-15</td>\n",
       "    </tr>\n",
       "    <tr>\n",
       "      <th>7</th>\n",
       "      <td>5.0</td>\n",
       "      <td>50.0</td>\n",
       "      <td>2.836622e-01</td>\n",
       "      <td>0.283662</td>\n",
       "      <td>1.761251e-15</td>\n",
       "    </tr>\n",
       "    <tr>\n",
       "      <th>8</th>\n",
       "      <td>5.0</td>\n",
       "      <td>100.0</td>\n",
       "      <td>2.836622e-01</td>\n",
       "      <td>0.283662</td>\n",
       "      <td>1.761251e-15</td>\n",
       "    </tr>\n",
       "    <tr>\n",
       "      <th>9</th>\n",
       "      <td>5.0</td>\n",
       "      <td>1000.0</td>\n",
       "      <td>2.836622e-01</td>\n",
       "      <td>0.283662</td>\n",
       "      <td>1.761251e-15</td>\n",
       "    </tr>\n",
       "    <tr>\n",
       "      <th>10</th>\n",
       "      <td>8.0</td>\n",
       "      <td>10.0</td>\n",
       "      <td>-8.677416e-02</td>\n",
       "      <td>-0.145500</td>\n",
       "      <td>-4.036141e-01</td>\n",
       "    </tr>\n",
       "    <tr>\n",
       "      <th>11</th>\n",
       "      <td>8.0</td>\n",
       "      <td>20.0</td>\n",
       "      <td>-1.455000e-01</td>\n",
       "      <td>-0.145500</td>\n",
       "      <td>-4.784259e-13</td>\n",
       "    </tr>\n",
       "    <tr>\n",
       "      <th>12</th>\n",
       "      <td>8.0</td>\n",
       "      <td>50.0</td>\n",
       "      <td>-1.455000e-01</td>\n",
       "      <td>-0.145500</td>\n",
       "      <td>-7.611321e-14</td>\n",
       "    </tr>\n",
       "    <tr>\n",
       "      <th>13</th>\n",
       "      <td>8.0</td>\n",
       "      <td>100.0</td>\n",
       "      <td>-1.455000e-01</td>\n",
       "      <td>-0.145500</td>\n",
       "      <td>-7.611321e-14</td>\n",
       "    </tr>\n",
       "    <tr>\n",
       "      <th>14</th>\n",
       "      <td>8.0</td>\n",
       "      <td>1000.0</td>\n",
       "      <td>-1.455000e-01</td>\n",
       "      <td>-0.145500</td>\n",
       "      <td>-7.611321e-14</td>\n",
       "    </tr>\n",
       "    <tr>\n",
       "      <th>15</th>\n",
       "      <td>16.0</td>\n",
       "      <td>10.0</td>\n",
       "      <td>1.848709e+05</td>\n",
       "      <td>-0.957659</td>\n",
       "      <td>-1.930455e+05</td>\n",
       "    </tr>\n",
       "    <tr>\n",
       "      <th>16</th>\n",
       "      <td>16.0</td>\n",
       "      <td>20.0</td>\n",
       "      <td>-7.233984e-01</td>\n",
       "      <td>-0.957659</td>\n",
       "      <td>-2.446183e-01</td>\n",
       "    </tr>\n",
       "    <tr>\n",
       "      <th>17</th>\n",
       "      <td>16.0</td>\n",
       "      <td>50.0</td>\n",
       "      <td>-9.576595e-01</td>\n",
       "      <td>-0.957659</td>\n",
       "      <td>-1.164118e-10</td>\n",
       "    </tr>\n",
       "    <tr>\n",
       "      <th>18</th>\n",
       "      <td>16.0</td>\n",
       "      <td>100.0</td>\n",
       "      <td>-9.576595e-01</td>\n",
       "      <td>-0.957659</td>\n",
       "      <td>-1.164118e-10</td>\n",
       "    </tr>\n",
       "    <tr>\n",
       "      <th>19</th>\n",
       "      <td>16.0</td>\n",
       "      <td>1000.0</td>\n",
       "      <td>-9.576595e-01</td>\n",
       "      <td>-0.957659</td>\n",
       "      <td>-1.164118e-10</td>\n",
       "    </tr>\n",
       "    <tr>\n",
       "      <th>20</th>\n",
       "      <td>32.0</td>\n",
       "      <td>10.0</td>\n",
       "      <td>3.740488e+11</td>\n",
       "      <td>0.834223</td>\n",
       "      <td>4.483797e+11</td>\n",
       "    </tr>\n",
       "    <tr>\n",
       "      <th>21</th>\n",
       "      <td>32.0</td>\n",
       "      <td>20.0</td>\n",
       "      <td>7.511996e+11</td>\n",
       "      <td>0.834223</td>\n",
       "      <td>9.004777e+11</td>\n",
       "    </tr>\n",
       "    <tr>\n",
       "      <th>22</th>\n",
       "      <td>32.0</td>\n",
       "      <td>50.0</td>\n",
       "      <td>8.339676e-01</td>\n",
       "      <td>0.834223</td>\n",
       "      <td>-3.066086e-04</td>\n",
       "    </tr>\n",
       "    <tr>\n",
       "      <th>23</th>\n",
       "      <td>32.0</td>\n",
       "      <td>100.0</td>\n",
       "      <td>8.339676e-01</td>\n",
       "      <td>0.834223</td>\n",
       "      <td>-3.066124e-04</td>\n",
       "    </tr>\n",
       "    <tr>\n",
       "      <th>24</th>\n",
       "      <td>32.0</td>\n",
       "      <td>1000.0</td>\n",
       "      <td>8.339676e-01</td>\n",
       "      <td>0.834223</td>\n",
       "      <td>-3.066124e-04</td>\n",
       "    </tr>\n",
       "    <tr>\n",
       "      <th>25</th>\n",
       "      <td>60.0</td>\n",
       "      <td>10.0</td>\n",
       "      <td>1.356797e+17</td>\n",
       "      <td>-0.952413</td>\n",
       "      <td>-1.424589e+17</td>\n",
       "    </tr>\n",
       "    <tr>\n",
       "      <th>26</th>\n",
       "      <td>60.0</td>\n",
       "      <td>20.0</td>\n",
       "      <td>1.132192e+23</td>\n",
       "      <td>-0.952413</td>\n",
       "      <td>-1.188761e+23</td>\n",
       "    </tr>\n",
       "    <tr>\n",
       "      <th>27</th>\n",
       "      <td>60.0</td>\n",
       "      <td>50.0</td>\n",
       "      <td>1.826468e+19</td>\n",
       "      <td>-0.952413</td>\n",
       "      <td>-1.917727e+19</td>\n",
       "    </tr>\n",
       "    <tr>\n",
       "      <th>28</th>\n",
       "      <td>60.0</td>\n",
       "      <td>100.0</td>\n",
       "      <td>1.596800e+09</td>\n",
       "      <td>-0.952413</td>\n",
       "      <td>-1.676584e+09</td>\n",
       "    </tr>\n",
       "    <tr>\n",
       "      <th>29</th>\n",
       "      <td>60.0</td>\n",
       "      <td>1000.0</td>\n",
       "      <td>1.596800e+09</td>\n",
       "      <td>-0.952413</td>\n",
       "      <td>-1.676584e+09</td>\n",
       "    </tr>\n",
       "    <tr>\n",
       "      <th>30</th>\n",
       "      <td>80.0</td>\n",
       "      <td>10.0</td>\n",
       "      <td>4.470466e+19</td>\n",
       "      <td>-0.110387</td>\n",
       "      <td>-4.049803e+20</td>\n",
       "    </tr>\n",
       "    <tr>\n",
       "      <th>31</th>\n",
       "      <td>80.0</td>\n",
       "      <td>20.0</td>\n",
       "      <td>1.304690e+28</td>\n",
       "      <td>-0.110387</td>\n",
       "      <td>-1.181921e+29</td>\n",
       "    </tr>\n",
       "    <tr>\n",
       "      <th>32</th>\n",
       "      <td>80.0</td>\n",
       "      <td>50.0</td>\n",
       "      <td>8.442218e+31</td>\n",
       "      <td>-0.110387</td>\n",
       "      <td>-7.647820e+32</td>\n",
       "    </tr>\n",
       "    <tr>\n",
       "      <th>33</th>\n",
       "      <td>80.0</td>\n",
       "      <td>100.0</td>\n",
       "      <td>-8.643526e+16</td>\n",
       "      <td>-0.110387</td>\n",
       "      <td>7.830186e+17</td>\n",
       "    </tr>\n",
       "    <tr>\n",
       "      <th>34</th>\n",
       "      <td>80.0</td>\n",
       "      <td>1000.0</td>\n",
       "      <td>-8.643526e+16</td>\n",
       "      <td>-0.110387</td>\n",
       "      <td>7.830186e+17</td>\n",
       "    </tr>\n",
       "    <tr>\n",
       "      <th>35</th>\n",
       "      <td>100.0</td>\n",
       "      <td>10.0</td>\n",
       "      <td>3.958792e+21</td>\n",
       "      <td>0.862319</td>\n",
       "      <td>4.590868e+21</td>\n",
       "    </tr>\n",
       "    <tr>\n",
       "      <th>36</th>\n",
       "      <td>100.0</td>\n",
       "      <td>20.0</td>\n",
       "      <td>1.058262e+32</td>\n",
       "      <td>0.862319</td>\n",
       "      <td>1.227228e+32</td>\n",
       "    </tr>\n",
       "    <tr>\n",
       "      <th>37</th>\n",
       "      <td>100.0</td>\n",
       "      <td>50.0</td>\n",
       "      <td>5.330353e+41</td>\n",
       "      <td>0.862319</td>\n",
       "      <td>6.181417e+41</td>\n",
       "    </tr>\n",
       "    <tr>\n",
       "      <th>38</th>\n",
       "      <td>100.0</td>\n",
       "      <td>100.0</td>\n",
       "      <td>-3.771888e+25</td>\n",
       "      <td>0.862319</td>\n",
       "      <td>-4.374122e+25</td>\n",
       "    </tr>\n",
       "    <tr>\n",
       "      <th>39</th>\n",
       "      <td>100.0</td>\n",
       "      <td>1000.0</td>\n",
       "      <td>-4.023252e+25</td>\n",
       "      <td>0.862319</td>\n",
       "      <td>-4.665620e+25</td>\n",
       "    </tr>\n",
       "  </tbody>\n",
       "</table>\n",
       "</div>"
      ],
      "text/plain": [
       "        X  Iteraiones          Suma       cos         Error\n",
       "0     0.0        10.0  1.000000e+00  1.000000  0.000000e+00\n",
       "1     0.0        20.0  1.000000e+00  1.000000  0.000000e+00\n",
       "2     0.0        50.0  1.000000e+00  1.000000  0.000000e+00\n",
       "3     0.0       100.0  1.000000e+00  1.000000  0.000000e+00\n",
       "4     0.0      1000.0  1.000000e+00  1.000000  0.000000e+00\n",
       "5     5.0        10.0  2.836642e-01  0.283662  7.151709e-06\n",
       "6     5.0        20.0  2.836622e-01  0.283662  1.761251e-15\n",
       "7     5.0        50.0  2.836622e-01  0.283662  1.761251e-15\n",
       "8     5.0       100.0  2.836622e-01  0.283662  1.761251e-15\n",
       "9     5.0      1000.0  2.836622e-01  0.283662  1.761251e-15\n",
       "10    8.0        10.0 -8.677416e-02 -0.145500 -4.036141e-01\n",
       "11    8.0        20.0 -1.455000e-01 -0.145500 -4.784259e-13\n",
       "12    8.0        50.0 -1.455000e-01 -0.145500 -7.611321e-14\n",
       "13    8.0       100.0 -1.455000e-01 -0.145500 -7.611321e-14\n",
       "14    8.0      1000.0 -1.455000e-01 -0.145500 -7.611321e-14\n",
       "15   16.0        10.0  1.848709e+05 -0.957659 -1.930455e+05\n",
       "16   16.0        20.0 -7.233984e-01 -0.957659 -2.446183e-01\n",
       "17   16.0        50.0 -9.576595e-01 -0.957659 -1.164118e-10\n",
       "18   16.0       100.0 -9.576595e-01 -0.957659 -1.164118e-10\n",
       "19   16.0      1000.0 -9.576595e-01 -0.957659 -1.164118e-10\n",
       "20   32.0        10.0  3.740488e+11  0.834223  4.483797e+11\n",
       "21   32.0        20.0  7.511996e+11  0.834223  9.004777e+11\n",
       "22   32.0        50.0  8.339676e-01  0.834223 -3.066086e-04\n",
       "23   32.0       100.0  8.339676e-01  0.834223 -3.066124e-04\n",
       "24   32.0      1000.0  8.339676e-01  0.834223 -3.066124e-04\n",
       "25   60.0        10.0  1.356797e+17 -0.952413 -1.424589e+17\n",
       "26   60.0        20.0  1.132192e+23 -0.952413 -1.188761e+23\n",
       "27   60.0        50.0  1.826468e+19 -0.952413 -1.917727e+19\n",
       "28   60.0       100.0  1.596800e+09 -0.952413 -1.676584e+09\n",
       "29   60.0      1000.0  1.596800e+09 -0.952413 -1.676584e+09\n",
       "30   80.0        10.0  4.470466e+19 -0.110387 -4.049803e+20\n",
       "31   80.0        20.0  1.304690e+28 -0.110387 -1.181921e+29\n",
       "32   80.0        50.0  8.442218e+31 -0.110387 -7.647820e+32\n",
       "33   80.0       100.0 -8.643526e+16 -0.110387  7.830186e+17\n",
       "34   80.0      1000.0 -8.643526e+16 -0.110387  7.830186e+17\n",
       "35  100.0        10.0  3.958792e+21  0.862319  4.590868e+21\n",
       "36  100.0        20.0  1.058262e+32  0.862319  1.227228e+32\n",
       "37  100.0        50.0  5.330353e+41  0.862319  6.181417e+41\n",
       "38  100.0       100.0 -3.771888e+25  0.862319 -4.374122e+25\n",
       "39  100.0      1000.0 -4.023252e+25  0.862319 -4.665620e+25"
      ]
     },
     "execution_count": 14,
     "metadata": {},
     "output_type": "execute_result"
    }
   ],
   "source": [
    "tabla(valores_x,iteraciones)\n",
    "# "
   ]
  },
  {
   "cell_type": "markdown",
   "metadata": {},
   "source": [
    "# Datos Estrellas"
   ]
  },
  {
   "cell_type": "code",
   "execution_count": 15,
   "metadata": {},
   "outputs": [
    {
     "ename": "FileNotFoundError",
     "evalue": "stars.data.dat not found.",
     "output_type": "error",
     "traceback": [
      "\u001b[1;31m---------------------------------------------------------------------------\u001b[0m",
      "\u001b[1;31mFileNotFoundError\u001b[0m                         Traceback (most recent call last)",
      "Cell \u001b[1;32mIn[15], line 4\u001b[0m\n\u001b[0;32m      1\u001b[0m \u001b[38;5;28;01mfrom\u001b[39;00m \u001b[38;5;21;01mpylab\u001b[39;00m \u001b[38;5;28;01mimport\u001b[39;00m scatter,xlabel,ylabel,xlim,ylim,show\n\u001b[0;32m      2\u001b[0m \u001b[38;5;28;01mfrom\u001b[39;00m \u001b[38;5;21;01mnumpy\u001b[39;00m \u001b[38;5;28;01mimport\u001b[39;00m loadtxt\n\u001b[1;32m----> 4\u001b[0m data \u001b[38;5;241m=\u001b[39m \u001b[43mloadtxt\u001b[49m\u001b[43m(\u001b[49m\u001b[38;5;124;43m\"\u001b[39;49m\u001b[38;5;124;43mstars.data.dat\u001b[39;49m\u001b[38;5;124;43m\"\u001b[39;49m\u001b[43m,\u001b[49m\u001b[38;5;28;43mfloat\u001b[39;49m\u001b[43m)\u001b[49m\n\u001b[0;32m      5\u001b[0m x \u001b[38;5;241m=\u001b[39m data[:,\u001b[38;5;241m0\u001b[39m]\n\u001b[0;32m      6\u001b[0m y \u001b[38;5;241m=\u001b[39m data[:,\u001b[38;5;241m1\u001b[39m]\n",
      "File \u001b[1;32mc:\\Users\\dell\\AppData\\Local\\Programs\\Python\\Python312\\Lib\\site-packages\\numpy\\lib\\_npyio_impl.py:1397\u001b[0m, in \u001b[0;36mloadtxt\u001b[1;34m(fname, dtype, comments, delimiter, converters, skiprows, usecols, unpack, ndmin, encoding, max_rows, quotechar, like)\u001b[0m\n\u001b[0;32m   1394\u001b[0m \u001b[38;5;28;01mif\u001b[39;00m \u001b[38;5;28misinstance\u001b[39m(delimiter, \u001b[38;5;28mbytes\u001b[39m):\n\u001b[0;32m   1395\u001b[0m     delimiter \u001b[38;5;241m=\u001b[39m delimiter\u001b[38;5;241m.\u001b[39mdecode(\u001b[38;5;124m'\u001b[39m\u001b[38;5;124mlatin1\u001b[39m\u001b[38;5;124m'\u001b[39m)\n\u001b[1;32m-> 1397\u001b[0m arr \u001b[38;5;241m=\u001b[39m \u001b[43m_read\u001b[49m\u001b[43m(\u001b[49m\u001b[43mfname\u001b[49m\u001b[43m,\u001b[49m\u001b[43m \u001b[49m\u001b[43mdtype\u001b[49m\u001b[38;5;241;43m=\u001b[39;49m\u001b[43mdtype\u001b[49m\u001b[43m,\u001b[49m\u001b[43m \u001b[49m\u001b[43mcomment\u001b[49m\u001b[38;5;241;43m=\u001b[39;49m\u001b[43mcomment\u001b[49m\u001b[43m,\u001b[49m\u001b[43m \u001b[49m\u001b[43mdelimiter\u001b[49m\u001b[38;5;241;43m=\u001b[39;49m\u001b[43mdelimiter\u001b[49m\u001b[43m,\u001b[49m\n\u001b[0;32m   1398\u001b[0m \u001b[43m            \u001b[49m\u001b[43mconverters\u001b[49m\u001b[38;5;241;43m=\u001b[39;49m\u001b[43mconverters\u001b[49m\u001b[43m,\u001b[49m\u001b[43m \u001b[49m\u001b[43mskiplines\u001b[49m\u001b[38;5;241;43m=\u001b[39;49m\u001b[43mskiprows\u001b[49m\u001b[43m,\u001b[49m\u001b[43m \u001b[49m\u001b[43musecols\u001b[49m\u001b[38;5;241;43m=\u001b[39;49m\u001b[43musecols\u001b[49m\u001b[43m,\u001b[49m\n\u001b[0;32m   1399\u001b[0m \u001b[43m            \u001b[49m\u001b[43munpack\u001b[49m\u001b[38;5;241;43m=\u001b[39;49m\u001b[43munpack\u001b[49m\u001b[43m,\u001b[49m\u001b[43m \u001b[49m\u001b[43mndmin\u001b[49m\u001b[38;5;241;43m=\u001b[39;49m\u001b[43mndmin\u001b[49m\u001b[43m,\u001b[49m\u001b[43m \u001b[49m\u001b[43mencoding\u001b[49m\u001b[38;5;241;43m=\u001b[39;49m\u001b[43mencoding\u001b[49m\u001b[43m,\u001b[49m\n\u001b[0;32m   1400\u001b[0m \u001b[43m            \u001b[49m\u001b[43mmax_rows\u001b[49m\u001b[38;5;241;43m=\u001b[39;49m\u001b[43mmax_rows\u001b[49m\u001b[43m,\u001b[49m\u001b[43m \u001b[49m\u001b[43mquote\u001b[49m\u001b[38;5;241;43m=\u001b[39;49m\u001b[43mquotechar\u001b[49m\u001b[43m)\u001b[49m\n\u001b[0;32m   1402\u001b[0m \u001b[38;5;28;01mreturn\u001b[39;00m arr\n",
      "File \u001b[1;32mc:\\Users\\dell\\AppData\\Local\\Programs\\Python\\Python312\\Lib\\site-packages\\numpy\\lib\\_npyio_impl.py:1012\u001b[0m, in \u001b[0;36m_read\u001b[1;34m(fname, delimiter, comment, quote, imaginary_unit, usecols, skiplines, max_rows, converters, ndmin, unpack, dtype, encoding)\u001b[0m\n\u001b[0;32m   1010\u001b[0m     fname \u001b[38;5;241m=\u001b[39m os\u001b[38;5;241m.\u001b[39mfspath(fname)\n\u001b[0;32m   1011\u001b[0m \u001b[38;5;28;01mif\u001b[39;00m \u001b[38;5;28misinstance\u001b[39m(fname, \u001b[38;5;28mstr\u001b[39m):\n\u001b[1;32m-> 1012\u001b[0m     fh \u001b[38;5;241m=\u001b[39m \u001b[43mnp\u001b[49m\u001b[38;5;241;43m.\u001b[39;49m\u001b[43mlib\u001b[49m\u001b[38;5;241;43m.\u001b[39;49m\u001b[43m_datasource\u001b[49m\u001b[38;5;241;43m.\u001b[39;49m\u001b[43mopen\u001b[49m\u001b[43m(\u001b[49m\u001b[43mfname\u001b[49m\u001b[43m,\u001b[49m\u001b[43m \u001b[49m\u001b[38;5;124;43m'\u001b[39;49m\u001b[38;5;124;43mrt\u001b[39;49m\u001b[38;5;124;43m'\u001b[39;49m\u001b[43m,\u001b[49m\u001b[43m \u001b[49m\u001b[43mencoding\u001b[49m\u001b[38;5;241;43m=\u001b[39;49m\u001b[43mencoding\u001b[49m\u001b[43m)\u001b[49m\n\u001b[0;32m   1013\u001b[0m     \u001b[38;5;28;01mif\u001b[39;00m encoding \u001b[38;5;129;01mis\u001b[39;00m \u001b[38;5;28;01mNone\u001b[39;00m:\n\u001b[0;32m   1014\u001b[0m         encoding \u001b[38;5;241m=\u001b[39m \u001b[38;5;28mgetattr\u001b[39m(fh, \u001b[38;5;124m'\u001b[39m\u001b[38;5;124mencoding\u001b[39m\u001b[38;5;124m'\u001b[39m, \u001b[38;5;124m'\u001b[39m\u001b[38;5;124mlatin1\u001b[39m\u001b[38;5;124m'\u001b[39m)\n",
      "File \u001b[1;32mc:\\Users\\dell\\AppData\\Local\\Programs\\Python\\Python312\\Lib\\site-packages\\numpy\\lib\\_datasource.py:192\u001b[0m, in \u001b[0;36mopen\u001b[1;34m(path, mode, destpath, encoding, newline)\u001b[0m\n\u001b[0;32m    155\u001b[0m \u001b[38;5;250m\u001b[39m\u001b[38;5;124;03m\"\"\"\u001b[39;00m\n\u001b[0;32m    156\u001b[0m \u001b[38;5;124;03mOpen `path` with `mode` and return the file object.\u001b[39;00m\n\u001b[0;32m    157\u001b[0m \n\u001b[1;32m   (...)\u001b[0m\n\u001b[0;32m    188\u001b[0m \n\u001b[0;32m    189\u001b[0m \u001b[38;5;124;03m\"\"\"\u001b[39;00m\n\u001b[0;32m    191\u001b[0m ds \u001b[38;5;241m=\u001b[39m DataSource(destpath)\n\u001b[1;32m--> 192\u001b[0m \u001b[38;5;28;01mreturn\u001b[39;00m \u001b[43mds\u001b[49m\u001b[38;5;241;43m.\u001b[39;49m\u001b[43mopen\u001b[49m\u001b[43m(\u001b[49m\u001b[43mpath\u001b[49m\u001b[43m,\u001b[49m\u001b[43m \u001b[49m\u001b[43mmode\u001b[49m\u001b[43m,\u001b[49m\u001b[43m \u001b[49m\u001b[43mencoding\u001b[49m\u001b[38;5;241;43m=\u001b[39;49m\u001b[43mencoding\u001b[49m\u001b[43m,\u001b[49m\u001b[43m \u001b[49m\u001b[43mnewline\u001b[49m\u001b[38;5;241;43m=\u001b[39;49m\u001b[43mnewline\u001b[49m\u001b[43m)\u001b[49m\n",
      "File \u001b[1;32mc:\\Users\\dell\\AppData\\Local\\Programs\\Python\\Python312\\Lib\\site-packages\\numpy\\lib\\_datasource.py:529\u001b[0m, in \u001b[0;36mDataSource.open\u001b[1;34m(self, path, mode, encoding, newline)\u001b[0m\n\u001b[0;32m    526\u001b[0m     \u001b[38;5;28;01mreturn\u001b[39;00m _file_openers[ext](found, mode\u001b[38;5;241m=\u001b[39mmode,\n\u001b[0;32m    527\u001b[0m                               encoding\u001b[38;5;241m=\u001b[39mencoding, newline\u001b[38;5;241m=\u001b[39mnewline)\n\u001b[0;32m    528\u001b[0m \u001b[38;5;28;01melse\u001b[39;00m:\n\u001b[1;32m--> 529\u001b[0m     \u001b[38;5;28;01mraise\u001b[39;00m \u001b[38;5;167;01mFileNotFoundError\u001b[39;00m(\u001b[38;5;124mf\u001b[39m\u001b[38;5;124m\"\u001b[39m\u001b[38;5;132;01m{\u001b[39;00mpath\u001b[38;5;132;01m}\u001b[39;00m\u001b[38;5;124m not found.\u001b[39m\u001b[38;5;124m\"\u001b[39m)\n",
      "\u001b[1;31mFileNotFoundError\u001b[0m: stars.data.dat not found."
     ]
    }
   ],
   "source": [
    "from pylab import scatter,xlabel,ylabel,xlim,ylim,show\n",
    "from numpy import loadtxt\n",
    "\n",
    "data = loadtxt(\"stars.data.dat\",float)\n",
    "x = data[:,0]\n",
    "y = data[:,1]\n",
    "\n",
    "scatter(x,y)\n",
    "xlabel(\"Temperature\")\n",
    "ylabel(\"Magnitude\")\n",
    "xlim(0,13000)\n",
    "ylim(-5,20)\n",
    "show()\n"
   ]
  },
  {
   "cell_type": "markdown",
   "metadata": {},
   "source": [
    "# Reproduccion "
   ]
  },
  {
   "cell_type": "code",
   "execution_count": null,
   "metadata": {},
   "outputs": [
    {
     "data": {
      "image/png": "[encoded data removed]",
      "text/plain": [
       "<Figure size 640x480 with 1 Axes>"
      ]
     },
     "metadata": {},
     "output_type": "display_data"
    }
   ],
   "source": [
    "#Ahora graficaremos con matplotlib\n",
    "\n",
    "plt.scatter (x,y,c=\"yellow\")\n",
    "plt.grid(c=\"r\")\n",
    "plt.title(\"Stars\")\n",
    "xlabel(\"Temperature\")\n",
    "ylabel(\"Magnitude\")\n",
    "plt.style.use('dark_background')"
   ]
  },
  {
   "cell_type": "markdown",
   "metadata": {},
   "source": [
    "# Alturas "
   ]
  },
  {
   "cell_type": "code",
   "execution_count": null,
   "metadata": {},
   "outputs": [],
   "source": [
    "altura5 = loadtxt(\"altura5.dat\",float)\n",
    "altura6 = loadtxt(\"altura6.dat\",float)"
   ]
  },
  {
   "cell_type": "code",
   "execution_count": null,
   "metadata": {},
   "outputs": [
    {
     "data": {
      "text/plain": [
       "(100000,)"
      ]
     },
     "execution_count": 21,
     "metadata": {},
     "output_type": "execute_result"
    }
   ],
   "source": [
    "altura5[:,0]\n",
    "altura6.shape"
   ]
  },
  {
   "cell_type": "code",
   "execution_count": null,
   "metadata": {},
   "outputs": [
    {
     "data": {
      "image/png": "[encoded data removed]",
      "text/plain": [
       "<Figure size 640x480 with 1 Axes>"
      ]
     },
     "metadata": {},
     "output_type": "display_data"
    }
   ],
   "source": [
    "plt.plot(altura5[:,0],altura5[:,1],label = \"Caso 1\")\n",
    "plt.plot(altura5[:,0],altura5[:,2],label = \"Caso 2\")\n",
    "plt.plot(altura5[:,0],altura5[:,3],label = \"Caso 3\")\n",
    "plt.legend()\n",
    "xlabel(\"Altura\")\n",
    "ylabel(\"Frecuencia\")\n",
    "plt.style.use('default')"
   ]
  },
  {
   "cell_type": "code",
   "execution_count": null,
   "metadata": {},
   "outputs": [
    {
     "data": {
      "image/png": "[encoded data removed]",
      "text/plain": [
       "<Figure size 640x480 with 1 Axes>"
      ]
     },
     "metadata": {},
     "output_type": "display_data"
    }
   ],
   "source": [
    "plt.boxplot(altura6)\n",
    "plt.title('Boxplot')\n",
    "plt.ylabel('Valor')\n",
    "plt.grid()\n",
    "plt.show()"
   ]
  },
  {
   "cell_type": "code",
   "execution_count": null,
   "metadata": {},
   "outputs": [
    {
     "data": {
      "image/png": "[encoded data removed]",
      "text/plain": [
       "<Figure size 640x480 with 1 Axes>"
      ]
     },
     "metadata": {},
     "output_type": "display_data"
    }
   ],
   "source": [
    "import seaborn as sns\n",
    "sns.violinplot(altura6)\n",
    "plt.title('Violin Plot')\n",
    "plt.show()"
   ]
  }
 ],
 "metadata": {
  "kernelspec": {
   "display_name": "Python 3",
   "language": "python",
   "name": "python3"
  },
  "language_info": {
   "codemirror_mode": {
    "name": "ipython",
    "version": 3
   },
   "file_extension": ".py",
   "mimetype": "text/x-python",
   "name": "python",
   "nbconvert_exporter": "python",
   "pygments_lexer": "ipython3",
   "version": "3.12.4"
  }
 },
 "nbformat": 4,
 "nbformat_minor": 2
}
