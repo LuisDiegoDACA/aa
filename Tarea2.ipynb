{
 "cells": [
  {
   "cell_type": "code",
   "execution_count": 371,
   "metadata": {},
   "outputs": [],
   "source": [
    "import numpy as np \n",
    "import matplotlib.pyplot as plt\n",
    "import math as mt"
   ]
  },
  {
   "cell_type": "markdown",
   "metadata": {},
   "source": [
    "# Tarea 2"
   ]
  },
  {
   "cell_type": "code",
   "execution_count": 372,
   "metadata": {},
   "outputs": [],
   "source": [
    "#Integracion numerica\n",
    "#a) usando regla del trapecio y con 6, 15 subintervalos."
   ]
  },
  {
   "cell_type": "markdown",
   "metadata": {
    "vscode": {
     "languageId": "latex"
    }
   },
   "source": [
    "$$\n",
    "\\int_{-1}^{1} \\frac{1}{\\sqrt{2\\pi}} e{\\frac{{-x^2}}{2}} ,dx\n",
    "$$"
   ]
  },
  {
   "cell_type": "code",
   "execution_count": 373,
   "metadata": {},
   "outputs": [],
   "source": [
    "#Definimos nuestra funcion del ejercicio 1\n",
    "def fx(x):\n",
    "    funcion = (1/(mt.sqrt(2*mt.pi)))*(mt.exp((-x**2)/2))\n",
    "    return funcion "
   ]
  },
  {
   "cell_type": "markdown",
   "metadata": {},
   "source": [
    "Metodo del Trapecio "
   ]
  },
  {
   "cell_type": "code",
   "execution_count": 389,
   "metadata": {},
   "outputs": [],
   "source": [
    "#Definimos la funcion que corresponde al metodo del trapesio \n",
    "def trape(a,b,n,fun,valor_teorico): #a,b son los limites de integracion, n umero de intervalos,la funcion a integrar \n",
    "    suma = []\n",
    "    intervalo = np.linspace(a,b,n+1)\n",
    "    suma.append(float(fun(intervalo[0])))\n",
    "    suma.append(float(fun(intervalo[-1])))\n",
    "    h = (b-a)/n\n",
    "    for i in (intervalo[1:-1]):\n",
    "        suma.append(2*fun(float(i)))\n",
    "    resultado = (h/2)*np.sum(suma)\n",
    "    error = abs((resultado - valor_teorico)/valor_teorico)\n",
    "    return float(resultado) , float(error)"
   ]
  },
  {
   "cell_type": "markdown",
   "metadata": {},
   "source": [
    "Metodo Simpson \n"
   ]
  },
  {
   "cell_type": "code",
   "execution_count": 390,
   "metadata": {},
   "outputs": [],
   "source": [
    "def simpson(a,b,n,fun,valor_teorico):    \n",
    "    h = (b - a) / n\n",
    "    intervalo = np.linspace(a, b, n + 1)\n",
    "    fun = np.vectorize(fun)\n",
    "    S = fun(intervalo[0]) + fun(intervalo[-1]) + 4 * np.sum(fun(intervalo[1:-1:2])) + 2 * np.sum(fun(intervalo[2:-2:2]))\n",
    "    #intervalo[1:-1:2] representa los pares y intervalo[2:-2:2] los impares \n",
    "    resultado_s = (h / 3) * S\n",
    "    error = abs((resultado_s - valor_teorico)/valor_teorico)\n",
    "    return float(resultado_s) , float(error)\n",
    "    "
   ]
  },
  {
   "cell_type": "code",
   "execution_count": 376,
   "metadata": {},
   "outputs": [
    {
     "data": {
      "text/plain": [
       "(0.6826908122781858, 1.9337461629304616e-06)"
      ]
     },
     "execution_count": 376,
     "metadata": {},
     "output_type": "execute_result"
    }
   ],
   "source": [
    "simpson(-1, 1,16,fx)"
   ]
  },
  {
   "cell_type": "markdown",
   "metadata": {},
   "source": [
    "Metodo de Guass_legende"
   ]
  },
  {
   "cell_type": "code",
   "execution_count": 391,
   "metadata": {},
   "outputs": [],
   "source": [
    "def gauss_legendre(a,b,n,fun,valor_teorico):\n",
    "    xi, wi = np.polynomial.legendre.leggauss(n) #obtenemos los puntos y pesos de gauss legendre par n \n",
    "    entrada = (xi/2)*(b-a) + ((b+a)/2)\n",
    "    fun = np.vectorize(fun) #vectorizamos la funcion \n",
    "    resultado_gl = ((b-a)/2) * np.sum(wi * fun(entrada))\n",
    "    error = abs((resultado_gl - valor_teorico)/valor_teorico)\n",
    "    return float(resultado_gl) , float(error)"
   ]
  },
  {
   "cell_type": "code",
   "execution_count": 378,
   "metadata": {},
   "outputs": [
    {
     "data": {
      "text/plain": [
       "(0.6826894921370816, 1.0373191130830397e-11)"
      ]
     },
     "execution_count": 378,
     "metadata": {},
     "output_type": "execute_result"
    }
   ],
   "source": [
    "gauss_legendre(-1,1,500,fx)"
   ]
  },
  {
   "cell_type": "code",
   "execution_count": 392,
   "metadata": {},
   "outputs": [
    {
     "name": "stdout",
     "output_type": "stream",
     "text": [
      "Para metodo del trapecio con 6 subintervalos el resultado y error relativo es (0.6781918237837555, 0.006588161042891245) \n",
      "Para metodo del trapecio con 15 subintervalos el resultado y error relativo es (0.6819721164424766, 0.0010508081138274037)\n",
      "Para metodo del trapecio con 50000 subintervalos el resultado es (0.6826894920725605, 4.0193229041965117e-11)\n",
      "Para el metodo de Simpson con 6 inervalos el resultado es y error relativo es  (0.6827586139549787, 0.00010124933191242798)\n",
      "Para el metodo de Simpson con 15 inervalos el rresultado y error relativo es(0.6468590649174456, 0.05248422247182609)\n",
      "Para el metodo de Simpson con 50000 inervalos el resultado y error relativo es(0.6826894921370861, 5.43235429698855e-11)\n",
      "Para el metodo de Gauss Legendre con 6 inervalos el resultado y error relativo es(0.6826894870533857, 7.3922541594862306e-09)\n",
      "Para el metodo de Gauss Legendren con 15 inervalos el resultado y error relativo es(0.6826894921370855, 5.432272984544351e-11)\n",
      "Para el metodo de Gauss Legendre con 50000 inervalos el resultado y error relativo es(0.6826894921371285, 5.438566567725312e-11)\n"
     ]
    }
   ],
   "source": [
    "print (f\"Para metodo del trapecio con 6 subintervalos el resultado y error relativo es {trape(-1,1,6,fx,0.6826894921)} \" )\n",
    "print (f\"Para metodo del trapecio con 15 subintervalos el resultado y error relativo es {trape(-1,1,15,fx,0.6826894921)}\" )\n",
    "print (f\"Para metodo del trapecio con 50000 subintervalos el resultado es {trape(-1,1,50000,fx,0.6826894921)}\" )\n",
    "\n",
    "print (f\"Para el metodo de Simpson con 6 inervalos el resultado es y error relativo es  {simpson(-1, 1, 6,fx,0.6826894921)}\")\n",
    "print (f\"Para el metodo de Simpson con 15 inervalos el rresultado y error relativo es{simpson(-1, 1, 15,fx,0.6826894921)}\")\n",
    "print (f\"Para el metodo de Simpson con 50000 inervalos el resultado y error relativo es{simpson(-1, 1, 50000,fx,0.6826894921)}\")\n",
    "\n",
    "print (f\"Para el metodo de Gauss Legendre con 6 inervalos el resultado y error relativo es{gauss_legendre(-1, 1, 6,fx,0.6826894921)}\")\n",
    "print (f\"Para el metodo de Gauss Legendren con 15 inervalos el resultado y error relativo es{gauss_legendre(-1, 1, 15,fx,0.6826894921)}\")\n",
    "print (f\"Para el metodo de Gauss Legendre con 50000 inervalos el resultado y error relativo es{gauss_legendre(-1, 1, 5000,fx,0.6826894921)}\")\n"
   ]
  },
  {
   "cell_type": "markdown",
   "metadata": {},
   "source": [
    "## Ejercicio 2 "
   ]
  },
  {
   "cell_type": "markdown",
   "metadata": {},
   "source": [
    "$$\n",
    "\\int_{0}^{3} \\frac{ e^ {x} \\sin(x)}{1 + {x^2}} , dx \n",
    "$$"
   ]
  },
  {
   "cell_type": "code",
   "execution_count": 383,
   "metadata": {},
   "outputs": [],
   "source": [
    "def fx2(y):\n",
    "    funcion_2 = (mt.exp(y)*mt.sin(y))/(1+y**2)\n",
    "    return funcion_2"
   ]
  },
  {
   "cell_type": "code",
   "execution_count": 393,
   "metadata": {},
   "outputs": [
    {
     "name": "stdout",
     "output_type": "stream",
     "text": [
      "Para metodo del trapecio con 6 subintervalos el resultado y error relativo es (2.821344182720175, 0.020924132535578746) \n",
      "Para metodo del trapecio con 15 subintervalos el resultado y error relativo es (2.872045104150456, 0.003329664999633459)\n",
      "Para metodo del trapecio con 20 subintervalos el resultado es (2.8762438146076046, 0.0018726091366011687)\n",
      "Para el metodo de Simpson con 6 inervalos el resultado es y error relativo es  (2.8854018637270924, 0.0013054592964743751)\n",
      "Para el metodo de Simpson con 15 inervalos el rresultado y error relativo es(2.767194601130425, 0.03971537002178449)\n",
      "Para el metodo de Simpson con 20 inervalos el resultado y error relativo es(2.881648560171607, 2.9705902219250853e-06)\n",
      "Para el metodo de Gauss Legendre con 6 inervalos el resultado y error relativo es(2.8816429377926123, 1.0194863384356717e-06)\n",
      "Para el metodo de Gauss Legendren con 15 inervalos el resultado y error relativo es(2.881637273033885, 9.46324355277128e-07)\n",
      "Para el metodo de Gauss Legendre con 20 inervalos el resultado y error relativo es(2.881637273055186, 9.463169632423702e-07)\n"
     ]
    }
   ],
   "source": [
    "print (f\"Para metodo del trapecio con 6 subintervalos el resultado y error relativo es {trape(0,3,6,fx2,2.88164)} \" )\n",
    "print (f\"Para metodo del trapecio con 15 subintervalos el resultado y error relativo es {trape(0,3,15,fx2,2.88164)}\" )\n",
    "print (f\"Para metodo del trapecio con 20 subintervalos el resultado es {trape(0,3,20,fx2,2.88164)}\" )\n",
    "\n",
    "print (f\"Para el metodo de Simpson con 6 inervalos el resultado es y error relativo es  {simpson(0,3, 6,fx2,2.88164)}\")\n",
    "print (f\"Para el metodo de Simpson con 15 inervalos el rresultado y error relativo es{simpson(0,3, 15,fx2,2.88164)}\")\n",
    "print (f\"Para el metodo de Simpson con 20 inervalos el resultado y error relativo es{simpson(0,3, 20,fx2,2.88164)}\")\n",
    "\n",
    "print (f\"Para el metodo de Gauss Legendre con 6 inervalos el resultado y error relativo es{gauss_legendre(0,3, 6,fx2,2.88164)}\")\n",
    "print (f\"Para el metodo de Gauss Legendren con 15 inervalos el resultado y error relativo es{gauss_legendre(0,3, 15,fx2,2.88164)}\")\n",
    "print (f\"Para el metodo de Gauss Legendre con 20 inervalos el resultado y error relativo es{gauss_legendre(0,3, 20,fx2,2.88164)}\")"
   ]
  },
  {
   "cell_type": "code",
   "execution_count": 394,
   "metadata": {},
   "outputs": [
    {
     "name": "stdout",
     "output_type": "stream",
     "text": [
      "hola\n"
     ]
    }
   ],
   "source": [
    "print(\"hola\")"
   ]
  },
  {
   "cell_type": "code",
   "execution_count": 382,
   "metadata": {},
   "outputs": [
    {
     "data": {
      "text/plain": [
       "np.float64(0.6781918237837556)"
      ]
     },
     "execution_count": 382,
     "metadata": {},
     "output_type": "execute_result"
    }
   ],
   "source": [
    "trapezoidal_rule(fx, -1, 1, 6)"
   ]
  }
 ],
 "metadata": {
  "kernelspec": {
   "display_name": "Python 3",
   "language": "python",
   "name": "python3"
  },
  "language_info": {
   "codemirror_mode": {
    "name": "ipython",
    "version": 3
   },
   "file_extension": ".py",
   "mimetype": "text/x-python",
   "name": "python",
   "nbconvert_exporter": "python",
   "pygments_lexer": "ipython3",
   "version": "3.12.4"
  }
 },
 "nbformat": 4,
 "nbformat_minor": 2
}
